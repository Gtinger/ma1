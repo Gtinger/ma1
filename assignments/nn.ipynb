{
 "cells": [
  {
   "cell_type": "markdown",
   "metadata": {},
   "source": [
    "# Mandatory Assignment 1\n",
    "\n",
    "#### Part I: Multi-layer Perceptron\n",
    "\n",
    "***\n",
    "\n",
    "Please see the description of the assignment in the README file (section 1) <br>\n",
    "**Guide notebook**: [material/nns_pytorch.ipynb](material/nns_pytorch.ipynb)\n",
    "\n",
    "Table of contents:\n",
    "1. Activate GPU\n",
    "2. Load data\n",
    "3. Inspect data\n",
    "4. Artificial neural network (**Where you will implement the ANN**)\n",
    "5. Training hyperparameters (**Where you will add training parameters**)\n",
    "6. Training\n",
    "7. Plot loss and accuracy\n",
    "8. Evaluate\n"
   ]
  },
  {
   "cell_type": "code",
   "execution_count": 1,
   "metadata": {},
   "outputs": [],
   "source": [
    "# auxilary imports\n",
    "import random\n",
    "import matplotlib.pyplot as plt\n",
    "import os\n",
    "from pathlib import Path\n",
    "\n",
    "# pytorch\n",
    "import torch\n",
    "import torch.nn as nn\n",
    "from torchvision import transforms\n",
    "import torch.nn.functional as F  # noqa"
   ]
  },
  {
   "cell_type": "markdown",
   "metadata": {},
   "source": [
    "First, a bit of a hack in case your IDE wants to run the notebook from /`assignment/` and not the project root folder `/ma1`. We need the working directory to be `/ma1` for local imports to work."
   ]
  },
  {
   "cell_type": "code",
   "execution_count": 2,
   "metadata": {},
   "outputs": [
    {
     "name": "stdout",
     "output_type": "stream",
     "text": [
      "Working directory set to: c:\\Users\\Frede\\Code\\AIML25\\mas\\ma1\n"
     ]
    }
   ],
   "source": [
    "# Ensure the working directory is set to the \"ma1\" folder.\n",
    "while Path.cwd().name != \"ma1\" and \"ma1\" in str(Path.cwd()):\n",
    "    os.chdir(\"..\")  # Move up one directory\n",
    "print(f\"Working directory set to: {Path.cwd()}\")"
   ]
  },
  {
   "cell_type": "markdown",
   "metadata": {},
   "source": [
    "##### Import local files\n",
    "\n",
    "To declutter the notebooks, your are given a module (`/src`) of useful functions. Please study each one as they contain important code (particularly `src.training` and `src.evaluation`). "
   ]
  },
  {
   "cell_type": "code",
   "execution_count": 3,
   "metadata": {},
   "outputs": [],
   "source": [
    "# local files\n",
    "from src.utils import get_device\n",
    "from src.data import load_torch_data, to_dataloader, train_val_split\n",
    "from src.training import fit\n",
    "from src.evaluation import evaluate\n",
    "from src.visualize import plot_training_history"
   ]
  },
  {
   "cell_type": "markdown",
   "metadata": {},
   "source": [
    "### 1. Activate GPU\n",
    "If available. Note that this is not necessary, but it will speed up your training."
   ]
  },
  {
   "cell_type": "code",
   "execution_count": 4,
   "metadata": {},
   "outputs": [
    {
     "name": "stdout",
     "output_type": "stream",
     "text": [
      "Running pytorch version (2.5.1) with backend = cpu\n"
     ]
    }
   ],
   "source": [
    "# Device will determine whether to run the training on GPU or CPU.\n",
    "DEVICE = get_device()"
   ]
  },
  {
   "cell_type": "markdown",
   "metadata": {},
   "source": [
    "### 2. Load data"
   ]
  },
  {
   "cell_type": "code",
   "execution_count": 5,
   "metadata": {},
   "outputs": [
    {
     "data": {
      "text/plain": [
       "'len(train_val)=60000, len(test)=10000'"
      ]
     },
     "execution_count": 5,
     "metadata": {},
     "output_type": "execute_result"
    }
   ],
   "source": [
    "# load the training/validation data\n",
    "train_val = load_torch_data(\n",
    "    dataset=\"MNIST\",\n",
    "    root = 'data',                     # The root directory where the dataset will be stored\n",
    "    download = True,                   # If the dataset is not found at root, it will be downloaded\n",
    "    train = True,                      # The train dataset (as opposed to the test dataset)\n",
    "    transform = transforms.ToTensor()  # transformations to be applied to the dataset (only cast to tensor)\n",
    ")\n",
    "\n",
    "# load the testing data\n",
    "test = load_torch_data(\n",
    "    dataset = \"MNIST\",\n",
    "    root = 'data',\n",
    "    download = True,\n",
    "    train = False,\n",
    "    transform = transforms.ToTensor()\n",
    ")\n",
    "\n",
    "f\"{len(train_val)=}, {len(test)=}\""
   ]
  },
  {
   "cell_type": "code",
   "execution_count": 6,
   "metadata": {},
   "outputs": [
    {
     "data": {
      "text/plain": [
       "'len(val)=12000, len(train)=48000'"
      ]
     },
     "execution_count": 6,
     "metadata": {},
     "output_type": "execute_result"
    }
   ],
   "source": [
    "# split training data in training and validation (just like train_test_split in sklearn)\n",
    "train, val = train_val_split(train_val, val_ratio=0.2, seed=42)\n",
    "\n",
    "f\"{len(val)=}, {len(train)=}\""
   ]
  },
  {
   "cell_type": "code",
   "execution_count": 7,
   "metadata": {},
   "outputs": [],
   "source": [
    "# create dataloders for easy batch loading during training\n",
    "train_loader = to_dataloader(train, batch_size = 64, shuffle = True)\n",
    "val_loader = to_dataloader(val, batch_size = 64, shuffle = False)\n",
    "test_loader = to_dataloader(test, batch_size = 64, shuffle = False)"
   ]
  },
  {
   "cell_type": "markdown",
   "metadata": {},
   "source": [
    "### 3. Inspect data"
   ]
  },
  {
   "cell_type": "code",
   "execution_count": 8,
   "metadata": {},
   "outputs": [
    {
     "name": "stdout",
     "output_type": "stream",
     "text": [
      "Default image shape: torch.Size([1, 28, 28])\n",
      "Reshaped image shape: torch.Size([28, 28])\n",
      "Total pixels: 784\n",
      "The label for this image: 2\n"
     ]
    },
    {
     "data": {
      "image/png": "[encoded data removed]",
      "text/plain": [
       "<Figure size 640x480 with 1 Axes>"
      ]
     },
     "metadata": {},
     "output_type": "display_data"
    }
   ],
   "source": [
    "# Pick a random example from the training set\n",
    "selection = random.randrange(len(train)-1)\n",
    "image, label = train[selection]\n",
    "\n",
    "# Plot the image\n",
    "print(f\"Default image shape: {image.shape}\")\n",
    "image = image.view([28,28])\n",
    "\n",
    "print(f\"Reshaped image shape: {image.shape}\")\n",
    "plt.imshow(image, cmap=\"gray\")\n",
    "\n",
    "print(f\"Total pixels: {image.shape[0] * image.shape[1]}\")\n",
    "\n",
    "# Print the label\n",
    "print(f\"The label for this image: {label}\")\n"
   ]
  },
  {
   "cell_type": "markdown",
   "metadata": {},
   "source": [
    "***\n",
    "\n",
    "### 4. Artificial neural network"
   ]
  },
  {
   "cell_type": "code",
   "execution_count": 62,
   "metadata": {},
   "outputs": [],
   "source": [
    "class MLP(nn.Module):\n",
    "\n",
    "  def __init__(self):\n",
    "    super().__init__()\n",
    "\n",
    "    self.fc1 = nn.Linear(784, 256)\n",
    "    self.fc2 = nn.Linear(256, 128)\n",
    "    self.fc3 = nn.Linear(128, 64)\n",
    "    self.fc4 = nn.Linear(64, 10)\n",
    "\n",
    "    # TODO: define layers\n",
    "    #Defining dropout layer, to hopefully help with overfitting issues\n",
    "    self.dropout = nn.Dropout(p=0.25)\n",
    "\n",
    "\n",
    "  def forward(self, x : torch.Tensor):\n",
    "            \n",
    "    x = self.fc1(x)\n",
    "    x = F.relu(x)\n",
    "    x = self.dropout(x)\n",
    "\n",
    "    x = self.fc2(x)\n",
    "    x = F.relu(x)\n",
    "    x = self.dropout(x)\n",
    "\n",
    "    x = self.fc3(x)\n",
    "    x = F.relu(x)\n",
    "    x = self.dropout(x)\n",
    "\n",
    "    x = self.fc4(x)\n",
    "\n",
    "\n",
    "    # TODO: define forward pass\n",
    "\n",
    "    return x"
   ]
  },
  {
   "cell_type": "markdown",
   "metadata": {},
   "source": [
    "### 5. Training hyperparameters"
   ]
  },
  {
   "cell_type": "code",
   "execution_count": 63,
   "metadata": {},
   "outputs": [],
   "source": [
    "LR = 0.002 \n",
    "\n",
    "# TODO: define the learning rate\n",
    "NUM_EPOCHS = 30\n",
    "\n",
    "# TODO: define the number of epochs (i.e. passes over the dataset)\n",
    "criterion = nn.CrossEntropyLoss()  # The loss function"
   ]
  },
  {
   "cell_type": "markdown",
   "metadata": {},
   "source": [
    "Instantiate the model and optimizer"
   ]
  },
  {
   "cell_type": "code",
   "execution_count": 64,
   "metadata": {},
   "outputs": [],
   "source": [
    "model = MLP().to(DEVICE)   # Create an instance of the MLP model and move it to device (GPU or CPU)\n",
    "optimizer = torch.optim.Adam(model.parameters(), lr=LR, weight_decay=0.0001) # The optimizer (here, SGD - you can also try ADAM)"
   ]
  },
  {
   "cell_type": "code",
   "execution_count": 65,
   "metadata": {},
   "outputs": [
    {
     "data": {
      "text/plain": [
       "MLP(\n",
       "  (fc1): Linear(in_features=784, out_features=256, bias=True)\n",
       "  (fc2): Linear(in_features=256, out_features=128, bias=True)\n",
       "  (fc3): Linear(in_features=128, out_features=64, bias=True)\n",
       "  (fc4): Linear(in_features=64, out_features=10, bias=True)\n",
       "  (dropout): Dropout(p=0.25, inplace=False)\n",
       ")"
      ]
     },
     "execution_count": 65,
     "metadata": {},
     "output_type": "execute_result"
    }
   ],
   "source": [
    "model"
   ]
  },
  {
   "cell_type": "markdown",
   "metadata": {},
   "source": [
    "### 6. Training"
   ]
  },
  {
   "cell_type": "code",
   "execution_count": 66,
   "metadata": {},
   "outputs": [
    {
     "name": "stdout",
     "output_type": "stream",
     "text": [
      "Epoch [1/30]: Train Loss: 0.3880 | Train Accuracy: 88.35% | Val Loss: 0.1582 | Val Accuracy: 95.40%\n",
      "Epoch [2/30]: Train Loss: 0.1820 | Train Accuracy: 94.73% | Val Loss: 0.1298 | Val Accuracy: 96.26%\n",
      "Epoch [3/30]: Train Loss: 0.1399 | Train Accuracy: 95.91% | Val Loss: 0.1325 | Val Accuracy: 96.16%\n",
      "Epoch [4/30]: Train Loss: 0.1289 | Train Accuracy: 96.24% | Val Loss: 0.1029 | Val Accuracy: 97.09%\n",
      "Epoch [5/30]: Train Loss: 0.1130 | Train Accuracy: 96.73% | Val Loss: 0.1057 | Val Accuracy: 97.02%\n",
      "Epoch [6/30]: Train Loss: 0.1106 | Train Accuracy: 96.78% | Val Loss: 0.1147 | Val Accuracy: 96.76%\n",
      "Epoch [7/30]: Train Loss: 0.1051 | Train Accuracy: 96.97% | Val Loss: 0.1091 | Val Accuracy: 96.92%\n",
      "Epoch [8/30]: Train Loss: 0.0968 | Train Accuracy: 97.21% | Val Loss: 0.0870 | Val Accuracy: 97.48%\n",
      "Epoch [9/30]: Train Loss: 0.0929 | Train Accuracy: 97.38% | Val Loss: 0.1015 | Val Accuracy: 97.22%\n",
      "Epoch [10/30]: Train Loss: 0.0947 | Train Accuracy: 97.17% | Val Loss: 0.0939 | Val Accuracy: 97.23%\n",
      "Epoch [11/30]: Train Loss: 0.0914 | Train Accuracy: 97.35% | Val Loss: 0.0960 | Val Accuracy: 97.45%\n",
      "Epoch [12/30]: Train Loss: 0.0873 | Train Accuracy: 97.39% | Val Loss: 0.0921 | Val Accuracy: 97.45%\n",
      "Epoch [13/30]: Train Loss: 0.0884 | Train Accuracy: 97.34% | Val Loss: 0.0862 | Val Accuracy: 97.49%\n",
      "Epoch [14/30]: Train Loss: 0.0827 | Train Accuracy: 97.52% | Val Loss: 0.0974 | Val Accuracy: 97.44%\n",
      "Epoch [15/30]: Train Loss: 0.0841 | Train Accuracy: 97.55% | Val Loss: 0.0959 | Val Accuracy: 97.51%\n",
      "Epoch [16/30]: Train Loss: 0.0849 | Train Accuracy: 97.56% | Val Loss: 0.0885 | Val Accuracy: 97.56%\n",
      "Epoch [17/30]: Train Loss: 0.0828 | Train Accuracy: 97.58% | Val Loss: 0.0891 | Val Accuracy: 97.49%\n",
      "Epoch [18/30]: Train Loss: 0.0798 | Train Accuracy: 97.64% | Val Loss: 0.1091 | Val Accuracy: 97.08%\n",
      "Epoch [19/30]: Train Loss: 0.0848 | Train Accuracy: 97.53% | Val Loss: 0.0963 | Val Accuracy: 97.44%\n",
      "Epoch [20/30]: Train Loss: 0.0831 | Train Accuracy: 97.61% | Val Loss: 0.0853 | Val Accuracy: 97.71%\n",
      "Epoch [21/30]: Train Loss: 0.0807 | Train Accuracy: 97.59% | Val Loss: 0.0948 | Val Accuracy: 97.62%\n",
      "Epoch [22/30]: Train Loss: 0.0747 | Train Accuracy: 97.82% | Val Loss: 0.0869 | Val Accuracy: 97.75%\n",
      "Epoch [23/30]: Train Loss: 0.0827 | Train Accuracy: 97.51% | Val Loss: 0.0923 | Val Accuracy: 97.48%\n",
      "Epoch [24/30]: Train Loss: 0.0802 | Train Accuracy: 97.68% | Val Loss: 0.0928 | Val Accuracy: 97.39%\n",
      "Epoch [25/30]: Train Loss: 0.0751 | Train Accuracy: 97.70% | Val Loss: 0.0880 | Val Accuracy: 97.55%\n",
      "Epoch [26/30]: Train Loss: 0.0780 | Train Accuracy: 97.65% | Val Loss: 0.0880 | Val Accuracy: 97.57%\n",
      "Epoch [27/30]: Train Loss: 0.0765 | Train Accuracy: 97.69% | Val Loss: 0.0938 | Val Accuracy: 97.56%\n",
      "Epoch [28/30]: Train Loss: 0.0754 | Train Accuracy: 97.78% | Val Loss: 0.0794 | Val Accuracy: 97.75%\n",
      "Epoch [29/30]: Train Loss: 0.0781 | Train Accuracy: 97.63% | Val Loss: 0.0943 | Val Accuracy: 97.36%\n",
      "Epoch [30/30]: Train Loss: 0.0705 | Train Accuracy: 97.91% | Val Loss: 0.0963 | Val Accuracy: 97.47%\n"
     ]
    }
   ],
   "source": [
    "model, history = fit(\n",
    "    model,\n",
    "    train_loader = train_loader,\n",
    "    val_loader = val_loader,\n",
    "    device = DEVICE,\n",
    "    optimizer = optimizer,\n",
    "    criterion = criterion,\n",
    "    num_epochs = NUM_EPOCHS\n",
    ")"
   ]
  },
  {
   "cell_type": "markdown",
   "metadata": {},
   "source": [
    "### 7. Plot loss and accuracy"
   ]
  },
  {
   "cell_type": "code",
   "execution_count": 67,
   "metadata": {},
   "outputs": [
    {
     "data": {
      "image/png": "[encoded data removed]",
      "text/plain": [
       "<Figure size 1200x600 with 2 Axes>"
      ]
     },
     "metadata": {},
     "output_type": "display_data"
    }
   ],
   "source": [
    "plot_training_history(history)"
   ]
  },
  {
   "cell_type": "markdown",
   "metadata": {},
   "source": [
    "### 8. Evaluate"
   ]
  },
  {
   "cell_type": "code",
   "execution_count": 68,
   "metadata": {},
   "outputs": [
    {
     "name": "stdout",
     "output_type": "stream",
     "text": [
      "Evaluation Results:\n",
      "Loss: 0.0289, Accuracy: 99.10%\n",
      "\n",
      "Classification Report:\n",
      "              precision    recall  f1-score   support\n",
      "\n",
      "           0       1.00      1.00      1.00      4735\n",
      "           1       0.99      1.00      0.99      5383\n",
      "           2       0.99      0.99      0.99      4762\n",
      "           3       0.99      0.99      0.99      4886\n",
      "           4       0.99      0.99      0.99      4681\n",
      "           5       0.99      0.99      0.99      4368\n",
      "           6       1.00      0.98      0.99      4752\n",
      "           7       0.99      0.99      0.99      4983\n",
      "           8       0.99      0.98      0.99      4674\n",
      "           9       0.99      0.99      0.99      4776\n",
      "\n",
      "    accuracy                           0.99     48000\n",
      "   macro avg       0.99      0.99      0.99     48000\n",
      "weighted avg       0.99      0.99      0.99     48000\n",
      "\n"
     ]
    }
   ],
   "source": [
    "evaluate(\n",
    "    model = model,\n",
    "    data_loader = train_loader,  # evaluate on training data\n",
    "    criterion = criterion,\n",
    "    device = DEVICE,\n",
    ")"
   ]
  },
  {
   "cell_type": "code",
   "execution_count": 69,
   "metadata": {},
   "outputs": [
    {
     "name": "stdout",
     "output_type": "stream",
     "text": [
      "Evaluation Results:\n",
      "Loss: 0.0963, Accuracy: 97.47%\n",
      "\n",
      "Classification Report:\n",
      "              precision    recall  f1-score   support\n",
      "\n",
      "           0       0.99      0.99      0.99      1188\n",
      "           1       0.98      0.99      0.98      1359\n",
      "           2       0.97      0.97      0.97      1196\n",
      "           3       0.96      0.98      0.97      1245\n",
      "           4       0.98      0.98      0.98      1161\n",
      "           5       0.97      0.98      0.97      1053\n",
      "           6       0.99      0.96      0.98      1166\n",
      "           7       0.97      0.99      0.98      1282\n",
      "           8       0.97      0.96      0.97      1177\n",
      "           9       0.96      0.97      0.97      1173\n",
      "\n",
      "    accuracy                           0.97     12000\n",
      "   macro avg       0.97      0.97      0.97     12000\n",
      "weighted avg       0.97      0.97      0.97     12000\n",
      "\n"
     ]
    }
   ],
   "source": [
    "evaluate(\n",
    "    model = model,\n",
    "    data_loader = val_loader,  # evaluate on validation data\n",
    "    criterion = criterion,\n",
    "    device = DEVICE,\n",
    ")"
   ]
  },
  {
   "cell_type": "code",
   "execution_count": 70,
   "metadata": {},
   "outputs": [
    {
     "name": "stdout",
     "output_type": "stream",
     "text": [
      "Evaluation Results:\n",
      "Loss: 0.0849, Accuracy: 97.75%\n",
      "\n",
      "Classification Report:\n",
      "              precision    recall  f1-score   support\n",
      "\n",
      "           0       0.98      0.99      0.99       980\n",
      "           1       0.99      1.00      0.99      1135\n",
      "           2       0.98      0.97      0.98      1032\n",
      "           3       0.97      0.98      0.98      1010\n",
      "           4       0.98      0.97      0.97       982\n",
      "           5       0.97      0.98      0.97       892\n",
      "           6       1.00      0.95      0.97       958\n",
      "           7       0.97      0.98      0.98      1028\n",
      "           8       0.98      0.97      0.97       974\n",
      "           9       0.97      0.97      0.97      1009\n",
      "\n",
      "    accuracy                           0.98     10000\n",
      "   macro avg       0.98      0.98      0.98     10000\n",
      "weighted avg       0.98      0.98      0.98     10000\n",
      "\n"
     ]
    }
   ],
   "source": [
    "evaluate(\n",
    "    model = model,\n",
    "    data_loader = test_loader,  # evaluate on testing data\n",
    "    criterion = criterion,\n",
    "    device = DEVICE,\n",
    ")"
   ]
  },
  {
   "cell_type": "code",
   "execution_count": null,
   "metadata": {},
   "outputs": [],
   "source": []
  }
 ],
 "metadata": {
  "kernelspec": {
   "display_name": "aiml25-ma1",
   "language": "python",
   "name": "python3"
  },
  "language_info": {
   "codemirror_mode": {
    "name": "ipython",
    "version": 3
   },
   "file_extension": ".py",
   "mimetype": "text/x-python",
   "name": "python",
   "nbconvert_exporter": "python",
   "pygments_lexer": "ipython3",
   "version": "3.13.2"
  }
 },
 "nbformat": 4,
 "nbformat_minor": 2
}
